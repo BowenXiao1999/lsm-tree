{
 "cells": [
  {
   "cell_type": "code",
   "execution_count": null,
   "metadata": {
    "collapsed": true
   },
   "outputs": [],
   "source": [
    "import numpy as np\n",
    "import cPickle as pickle\n",
    "import matplotlib.pyplot as plt"
   ]
  },
  {
   "cell_type": "code",
   "execution_count": null,
   "metadata": {
    "collapsed": false
   },
   "outputs": [],
   "source": [
    "umeans = pickle.load(open('put_unsorted_means.p','r'))\n",
    "print umeans \n",
    "ustds = pickle.load(open('put_unsorted_stds.p','r'))\n",
    "print ustds"
   ]
  },
  {
   "cell_type": "code",
   "execution_count": null,
   "metadata": {
    "collapsed": false
   },
   "outputs": [],
   "source": [
    "x = [1e2, 1e3, 1e4, 1e5]\n",
    "plt.errorbar(x,umeans[0,:], yerr=ustds[0,:], fmt='b^--', label='1e3')\n",
    "plt.errorbar(x,umeans[1,:], yerr=ustds[1,:], fmt='gs--', label='1e4')\n",
    "plt.errorbar(x,umeans[2,:], yerr=ustds[2,:], fmt='r--', label='1e5')\n",
    "plt.title('Unsorted PUT Latency')\n",
    "plt.xscale('log')\n",
    "plt.xlabel('Buffer size') \n",
    "plt.ylabel('Time (s)')\n",
    "plt.legend(title='data size')\n",
    "plt.show()"
   ]
  },
  {
   "cell_type": "code",
   "execution_count": null,
   "metadata": {
    "collapsed": false
   },
   "outputs": [],
   "source": [
    "means = pickle.load(open('put_sorted_means.p','r'))\n",
    "print means \n",
    "stds = pickle.load(open('put_sorted_stds.p','r'))\n",
    "print stds"
   ]
  },
  {
   "cell_type": "code",
   "execution_count": null,
   "metadata": {
    "collapsed": false
   },
   "outputs": [],
   "source": [
    "x = [1e2, 1e3, 1e4, 1e5]\n",
    "plt.errorbar(x,means[0,:], yerr=stds[0,:], fmt='b^--', label='1e3')\n",
    "plt.errorbar(x,means[1,:], yerr=stds[1,:], fmt='gs--', label='1e4')\n",
    "plt.errorbar(x,means[2,:], yerr=stds[2,:], fmt='r--', label='1e5')\n",
    "plt.axis([-1e4, 1e5+10000, -1e6, 1e8])\n",
    "plt.title('Sorted PUT Latency')\n",
    "plt.xlabel('buffer size') \n",
    "plt.ylabel('Time (s)')\n",
    "plt.legend(title='data size')\n",
    "plt.show()"
   ]
  },
  {
   "cell_type": "code",
   "execution_count": null,
   "metadata": {
    "collapsed": true
   },
   "outputs": [],
   "source": []
  },
  {
   "cell_type": "code",
   "execution_count": null,
   "metadata": {
    "collapsed": true
   },
   "outputs": [],
   "source": []
  }
 ],
 "metadata": {
  "anaconda-cloud": {},
  "kernelspec": {
   "display_name": "Python [default]",
   "language": "python",
   "name": "python2"
  },
  "language_info": {
   "codemirror_mode": {
    "name": "ipython",
    "version": 2
   },
   "file_extension": ".py",
   "mimetype": "text/x-python",
   "name": "python",
   "nbconvert_exporter": "python",
   "pygments_lexer": "ipython2",
   "version": "2.7.12"
  }
 },
 "nbformat": 4,
 "nbformat_minor": 1
}
